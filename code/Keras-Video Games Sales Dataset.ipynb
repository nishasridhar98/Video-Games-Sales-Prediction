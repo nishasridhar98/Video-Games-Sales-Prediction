{
 "cells": [
  {
   "cell_type": "markdown",
   "metadata": {},
   "source": [
    "## Predict the Global Sales in Video Games using Keras"
   ]
  },
  {
   "cell_type": "markdown",
   "metadata": {},
   "source": [
    "Import all the required libraries"
   ]
  },
  {
   "cell_type": "code",
   "execution_count": 1,
   "metadata": {},
   "outputs": [
    {
     "name": "stderr",
     "output_type": "stream",
     "text": [
      "Using TensorFlow backend.\n"
     ]
    }
   ],
   "source": [
    "import numpy as np\n",
    "import pandas as pd\n",
    "import matplotlib.pyplot as plt\n",
    "\n",
    "from sklearn.model_selection import train_test_split\n",
    "from sklearn import preprocessing\n",
    "\n",
    "import random\n",
    "import seaborn as sns\n",
    "\n",
    "import keras\n",
    "from keras.models import Sequential\n",
    "from keras.layers import Dense"
   ]
  },
  {
   "cell_type": "markdown",
   "metadata": {},
   "source": [
    "Read the data from the csv file"
   ]
  },
  {
   "cell_type": "code",
   "execution_count": 2,
   "metadata": {},
   "outputs": [],
   "source": [
    "data = pd.read_csv(\"../vgsales.csv\")"
   ]
  },
  {
   "cell_type": "markdown",
   "metadata": {},
   "source": [
    "Get the info of the data"
   ]
  },
  {
   "cell_type": "code",
   "execution_count": 3,
   "metadata": {
    "scrolled": true
   },
   "outputs": [
    {
     "name": "stdout",
     "output_type": "stream",
     "text": [
      "<class 'pandas.core.frame.DataFrame'>\n",
      "RangeIndex: 16598 entries, 0 to 16597\n",
      "Data columns (total 11 columns):\n",
      "Rank            16598 non-null int64\n",
      "Name            16598 non-null object\n",
      "Platform        16598 non-null object\n",
      "Year            16327 non-null float64\n",
      "Genre           16598 non-null object\n",
      "Publisher       16540 non-null object\n",
      "NA_Sales        16598 non-null float64\n",
      "EU_Sales        16598 non-null float64\n",
      "JP_Sales        16598 non-null float64\n",
      "Other_Sales     16598 non-null float64\n",
      "Global_Sales    16598 non-null float64\n",
      "dtypes: float64(6), int64(1), object(4)\n",
      "memory usage: 1.4+ MB\n"
     ]
    }
   ],
   "source": [
    "data.info()"
   ]
  },
  {
   "cell_type": "markdown",
   "metadata": {},
   "source": [
    "#### Check if there are nan values"
   ]
  },
  {
   "cell_type": "code",
   "execution_count": 4,
   "metadata": {
    "scrolled": true
   },
   "outputs": [
    {
     "data": {
      "text/plain": [
       "Rank              0\n",
       "Name              0\n",
       "Platform          0\n",
       "Year            271\n",
       "Genre             0\n",
       "Publisher        58\n",
       "NA_Sales          0\n",
       "EU_Sales          0\n",
       "JP_Sales          0\n",
       "Other_Sales       0\n",
       "Global_Sales      0\n",
       "dtype: int64"
      ]
     },
     "execution_count": 4,
     "metadata": {},
     "output_type": "execute_result"
    }
   ],
   "source": [
    "data.isnull().sum()"
   ]
  },
  {
   "cell_type": "markdown",
   "metadata": {},
   "source": [
    "Year feature has 271 nan values and Publisher feature has 58 nan values"
   ]
  },
  {
   "cell_type": "code",
   "execution_count": 5,
   "metadata": {},
   "outputs": [],
   "source": [
    "year = data.Year.unique() #Get array of unique values of year\n",
    "year_list=[] \n",
    "for i in year:\n",
    "    if not np.isnan(i):\n",
    "        year_list.append(i) #If the value in the array is not nan append it to year_list"
   ]
  },
  {
   "cell_type": "markdown",
   "metadata": {},
   "source": [
    "To replace nan values with random year"
   ]
  },
  {
   "cell_type": "code",
   "execution_count": 6,
   "metadata": {
    "scrolled": true
   },
   "outputs": [
    {
     "name": "stderr",
     "output_type": "stream",
     "text": [
      "C:\\Users\\Nisha\\Anaconda3\\lib\\site-packages\\ipykernel_launcher.py:5: SettingWithCopyWarning: \n",
      "A value is trying to be set on a copy of a slice from a DataFrame\n",
      "\n",
      "See the caveats in the documentation: http://pandas.pydata.org/pandas-docs/stable/indexing.html#indexing-view-versus-copy\n",
      "  \"\"\"\n"
     ]
    }
   ],
   "source": [
    "year_length=len(data['Year'])        #Get the no. of instances \n",
    "for i in range(year_length):\n",
    "    if str(data['Year'][i]) == ('nan' or ' nan'):\n",
    "        a = random.choice(year_list) #get a random value from the year list \n",
    "        data['Year'][i] = a          #Replace it with random values"
   ]
  },
  {
   "cell_type": "code",
   "execution_count": 7,
   "metadata": {},
   "outputs": [],
   "source": [
    "publisher = data.Publisher.unique() #Get array of unique values of publisher\n",
    "publisher_list=[] \n",
    "for i in publisher:   \n",
    "    if not pd.isnull(i):\n",
    "        publisher_list.append(i) #Append non nan values to publisher_list"
   ]
  },
  {
   "cell_type": "markdown",
   "metadata": {},
   "source": [
    "To eliminate nan values with random publisher value"
   ]
  },
  {
   "cell_type": "code",
   "execution_count": 8,
   "metadata": {},
   "outputs": [
    {
     "name": "stderr",
     "output_type": "stream",
     "text": [
      "C:\\Users\\Nisha\\Anaconda3\\lib\\site-packages\\ipykernel_launcher.py:5: SettingWithCopyWarning: \n",
      "A value is trying to be set on a copy of a slice from a DataFrame\n",
      "\n",
      "See the caveats in the documentation: http://pandas.pydata.org/pandas-docs/stable/indexing.html#indexing-view-versus-copy\n",
      "  \"\"\"\n"
     ]
    }
   ],
   "source": [
    "publisher_length=len(data['Publisher'])  #Get the no. of instances \n",
    "for i in range(publisher_length):\n",
    "    if str(data['Publisher'][i]) == ('nan' or ' nan'):\n",
    "        a = random.choice(publisher_list) #get a random value from the publisher list \n",
    "        data['Publisher'][i] = a          #Replace it with random values"
   ]
  },
  {
   "cell_type": "code",
   "execution_count": null,
   "metadata": {
    "scrolled": true
   },
   "outputs": [
    {
     "data": {
      "text/plain": [
       "Rank            0\n",
       "Name            0\n",
       "Platform        0\n",
       "Year            0\n",
       "Genre           0\n",
       "Publisher       0\n",
       "NA_Sales        0\n",
       "EU_Sales        0\n",
       "JP_Sales        0\n",
       "Other_Sales     0\n",
       "Global_Sales    0\n",
       "dtype: int64"
      ]
     },
     "execution_count": 9,
     "metadata": {},
     "output_type": "execute_result"
    }
   ],
   "source": [
    "data.isnull().sum()"
   ]
  },
  {
   "cell_type": "markdown",
   "metadata": {},
   "source": [
    "There is no nan values present in the year as well as publisher"
   ]
  },
  {
   "cell_type": "code",
   "execution_count": null,
   "metadata": {
    "scrolled": true
   },
   "outputs": [
    {
     "data": {
      "text/html": [
       "<div>\n",
       "<style scoped>\n",
       "    .dataframe tbody tr th:only-of-type {\n",
       "        vertical-align: middle;\n",
       "    }\n",
       "\n",
       "    .dataframe tbody tr th {\n",
       "        vertical-align: top;\n",
       "    }\n",
       "\n",
       "    .dataframe thead th {\n",
       "        text-align: right;\n",
       "    }\n",
       "</style>\n",
       "<table border=\"1\" class=\"dataframe\">\n",
       "  <thead>\n",
       "    <tr style=\"text-align: right;\">\n",
       "      <th></th>\n",
       "      <th>Rank</th>\n",
       "      <th>Name</th>\n",
       "      <th>Platform</th>\n",
       "      <th>Year</th>\n",
       "      <th>Genre</th>\n",
       "      <th>Publisher</th>\n",
       "      <th>NA_Sales</th>\n",
       "      <th>EU_Sales</th>\n",
       "      <th>JP_Sales</th>\n",
       "      <th>Other_Sales</th>\n",
       "      <th>Global_Sales</th>\n",
       "    </tr>\n",
       "  </thead>\n",
       "  <tbody>\n",
       "    <tr>\n",
       "      <th>0</th>\n",
       "      <td>1</td>\n",
       "      <td>Wii Sports</td>\n",
       "      <td>Wii</td>\n",
       "      <td>2006.0</td>\n",
       "      <td>Sports</td>\n",
       "      <td>Nintendo</td>\n",
       "      <td>41.49</td>\n",
       "      <td>29.02</td>\n",
       "      <td>3.77</td>\n",
       "      <td>8.46</td>\n",
       "      <td>82.74</td>\n",
       "    </tr>\n",
       "    <tr>\n",
       "      <th>1</th>\n",
       "      <td>2</td>\n",
       "      <td>Super Mario Bros.</td>\n",
       "      <td>NES</td>\n",
       "      <td>1985.0</td>\n",
       "      <td>Platform</td>\n",
       "      <td>Nintendo</td>\n",
       "      <td>29.08</td>\n",
       "      <td>3.58</td>\n",
       "      <td>6.81</td>\n",
       "      <td>0.77</td>\n",
       "      <td>40.24</td>\n",
       "    </tr>\n",
       "    <tr>\n",
       "      <th>2</th>\n",
       "      <td>3</td>\n",
       "      <td>Mario Kart Wii</td>\n",
       "      <td>Wii</td>\n",
       "      <td>2008.0</td>\n",
       "      <td>Racing</td>\n",
       "      <td>Nintendo</td>\n",
       "      <td>15.85</td>\n",
       "      <td>12.88</td>\n",
       "      <td>3.79</td>\n",
       "      <td>3.31</td>\n",
       "      <td>35.82</td>\n",
       "    </tr>\n",
       "    <tr>\n",
       "      <th>3</th>\n",
       "      <td>4</td>\n",
       "      <td>Wii Sports Resort</td>\n",
       "      <td>Wii</td>\n",
       "      <td>2009.0</td>\n",
       "      <td>Sports</td>\n",
       "      <td>Nintendo</td>\n",
       "      <td>15.75</td>\n",
       "      <td>11.01</td>\n",
       "      <td>3.28</td>\n",
       "      <td>2.96</td>\n",
       "      <td>33.00</td>\n",
       "    </tr>\n",
       "    <tr>\n",
       "      <th>4</th>\n",
       "      <td>5</td>\n",
       "      <td>Pokemon Red/Pokemon Blue</td>\n",
       "      <td>GB</td>\n",
       "      <td>1996.0</td>\n",
       "      <td>Role-Playing</td>\n",
       "      <td>Nintendo</td>\n",
       "      <td>11.27</td>\n",
       "      <td>8.89</td>\n",
       "      <td>10.22</td>\n",
       "      <td>1.00</td>\n",
       "      <td>31.37</td>\n",
       "    </tr>\n",
       "  </tbody>\n",
       "</table>\n",
       "</div>"
      ],
      "text/plain": [
       "   Rank                      Name Platform    Year         Genre Publisher  \\\n",
       "0     1                Wii Sports      Wii  2006.0        Sports  Nintendo   \n",
       "1     2         Super Mario Bros.      NES  1985.0      Platform  Nintendo   \n",
       "2     3            Mario Kart Wii      Wii  2008.0        Racing  Nintendo   \n",
       "3     4         Wii Sports Resort      Wii  2009.0        Sports  Nintendo   \n",
       "4     5  Pokemon Red/Pokemon Blue       GB  1996.0  Role-Playing  Nintendo   \n",
       "\n",
       "   NA_Sales  EU_Sales  JP_Sales  Other_Sales  Global_Sales  \n",
       "0     41.49     29.02      3.77         8.46         82.74  \n",
       "1     29.08      3.58      6.81         0.77         40.24  \n",
       "2     15.85     12.88      3.79         3.31         35.82  \n",
       "3     15.75     11.01      3.28         2.96         33.00  \n",
       "4     11.27      8.89     10.22         1.00         31.37  "
      ]
     },
     "execution_count": 10,
     "metadata": {},
     "output_type": "execute_result"
    }
   ],
   "source": [
    "data.head()"
   ]
  },
  {
   "cell_type": "markdown",
   "metadata": {},
   "source": [
    "### To find the relationship between Genre and Global Sales"
   ]
  },
  {
   "cell_type": "code",
   "execution_count": null,
   "metadata": {},
   "outputs": [
    {
     "name": "stdout",
     "output_type": "stream",
     "text": [
      "       genreList   eusales   nasales   jpsales  othersales  globalsales\n",
      "1       Platform  0.227573  0.504571  0.147596    0.058228     0.938341\n",
      "6        Shooter  0.239137  0.444733  0.029221    0.078389     0.791885\n",
      "3   Role-Playing  0.126384  0.219946  0.236767    0.040060     0.623233\n",
      "2         Racing  0.190865  0.287766  0.045388    0.061865     0.586101\n",
      "0         Sports  0.160635  0.291283  0.057702    0.057532     0.567319\n",
      "9       Fighting  0.119481  0.263667  0.103007    0.043255     0.529375\n",
      "8         Action  0.158323  0.264726  0.048236    0.056508     0.528100\n",
      "5           Misc  0.124198  0.235906  0.061967    0.043312     0.465762\n",
      "7     Simulation  0.130773  0.211430  0.073472    0.036355     0.452364\n",
      "4         Puzzle  0.087251  0.212680  0.098471    0.021564     0.420876\n",
      "11      Strategy  0.066579  0.100881  0.072628    0.016681     0.257151\n",
      "10     Adventure  0.049868  0.082271  0.040490    0.013072     0.185879\n"
     ]
    }
   ],
   "source": [
    "genreList = list(data.Genre.unique())  # create a list using unique values of Genre\n",
    "publisherList = list(data.Publisher.unique())\n",
    "eusales = []       # empty lists\n",
    "nasales = []\n",
    "jpsales = []\n",
    "othersales = []\n",
    "globalsales = []\n",
    "for i in genreList:\n",
    "    x = data[data['Genre']==i]      # find means of sales for each genre\n",
    "    eusales.append(sum(x.EU_Sales)/len(x))\n",
    "    jpsales.append(sum(x.JP_Sales)/len(x))\n",
    "    nasales.append(sum(x.NA_Sales)/len(x))\n",
    "    othersales.append(sum(x.Other_Sales)/len(x))\n",
    "    globalsales.append(sum(x.Global_Sales)/len(x))\n",
    "dataframe1 = pd.DataFrame({'genreList': genreList,'eusales':eusales,'nasales':nasales,'jpsales':jpsales,'othersales':othersales,'globalsales':globalsales}) # create dictionary, turn it to dataframe\n",
    "new_index = (dataframe1['globalsales'].sort_values(ascending=False)).index.values# sort values ,ascending=False : sort by decreasing\n",
    "final1 = dataframe1.reindex(new_index) # put sorted index in new_index,new dataframe\n",
    "print(final1)"
   ]
  },
  {
   "cell_type": "markdown",
   "metadata": {},
   "source": [
    "### Visualizing the relation between Genre and Global Sales "
   ]
  },
  {
   "cell_type": "code",
   "execution_count": null,
   "metadata": {},
   "outputs": [
    {
     "data": {
      "text/plain": [
       "Text(0, 0.5, 'Global Sales')"
      ]
     },
     "execution_count": 12,
     "metadata": {},
     "output_type": "execute_result"
    },
    {
     "data": {
      "image/png": "[encoded data removed]",
      "text/plain": [
       "<Figure size 720x720 with 1 Axes>"
      ]
     },
     "metadata": {
      "needs_background": "light"
     },
     "output_type": "display_data"
    }
   ],
   "source": [
    "plt.figure(figsize=(10,10))\n",
    "sns.barplot(x=final1['genreList'], y=final1['globalsales'])\n",
    "plt.xticks(rotation= 45)\n",
    "plt.xlabel('Genres')\n",
    "plt.ylabel('Global Sales')"
   ]
  },
  {
   "cell_type": "markdown",
   "metadata": {},
   "source": [
    "We get to know that Platform Genre has got the highest Global sales"
   ]
  },
  {
   "cell_type": "markdown",
   "metadata": {},
   "source": [
    "### Pointplot of the same"
   ]
  },
  {
   "cell_type": "code",
   "execution_count": null,
   "metadata": {},
   "outputs": [
    {
     "data": {
      "text/plain": [
       "Text(0.5, 1.0, 'Sales')"
      ]
     },
     "execution_count": 13,
     "metadata": {},
     "output_type": "execute_result"
    },
    {
     "data": {
      "image/png": "[encoded data removed]",
      "text/plain": [
       "<Figure size 1080x720 with 1 Axes>"
      ]
     },
     "metadata": {
      "needs_background": "light"
     },
     "output_type": "display_data"
    }
   ],
   "source": [
    "plt.figure(figsize=(15,10)) #create a (15,10) frame for plot \n",
    "sns.pointplot(x=\"genreList\",y=\"eusales\",color='magenta',alpha=0.6,data=final1) #alpha=opacity, data= dataframe that i use (final1)\n",
    "sns.pointplot(x=\"genreList\",y=\"nasales\",color='navy',alpha=0.6,data=final1)\n",
    "sns.pointplot(x='genreList',y='jpsales',color='red',alpa=0.6,data=final1)\n",
    "sns.pointplot(x='genreList',y='othersales',color='orange',data=final1)\n",
    "sns.pointplot(x='genreList',y='globalsales',color='green',data=final1)\n",
    "plt.grid()\n",
    "plt.xlabel(\"Genres\")\n",
    "plt.ylabel(\"Values\")\n",
    "plt.title(\"Sales\")"
   ]
  },
  {
   "cell_type": "markdown",
   "metadata": {},
   "source": [
    "### To find the relationship between Publisher and Global Sales"
   ]
  },
  {
   "cell_type": "code",
   "execution_count": null,
   "metadata": {},
   "outputs": [
    {
     "name": "stdout",
     "output_type": "stream",
     "text": [
      "                          publisherList   eusales   nasales   jpsales  \\\n",
      "26                               Palcom  0.440000  3.380000  0.310000   \n",
      "36                              Red Orb  1.805000  0.770000  0.000000   \n",
      "0                              Nintendo  0.595647  1.161977  0.647824   \n",
      "38                  Arena Entertainment  0.440000  1.850000  0.000000   \n",
      "44                          UEP Systems  0.460000  1.520000  0.200000   \n",
      "22                            RedOctane  0.278000  1.308000  0.006000   \n",
      "62                          Hello Games  0.740000  0.580000  0.020000   \n",
      "15   Sony Computer Entertainment Europe  0.600000  0.597333  0.166667   \n",
      "65                     Westwood Studios  0.000000  1.550000  0.000000   \n",
      "1                Microsoft Game Studios  0.363016  0.821958  0.017249   \n",
      "47                               Imagic  0.067500  1.127500  0.000000   \n",
      "84                    Black Label Games  0.460000  0.590000  0.000000   \n",
      "6                    Bethesda Softworks  0.432817  0.559437  0.020423   \n",
      "46                                Maxis  0.440000  0.626667  0.000000   \n",
      "24                     Enix Corporation  0.010333  0.025333  1.080000   \n",
      "9                            SquareSoft  0.095192  0.212692  0.771731   \n",
      "49                       Valve Software  0.383333  0.580000  0.003333   \n",
      "17                            LucasArts  0.295889  0.555222  0.002222   \n",
      "2                  Take-Two Interactive  0.285362  0.532585  0.014734   \n",
      "42                          989 Studios  0.235714  0.659286  0.007143   \n",
      "27                   Hasbro Interactive  0.223750  0.686875  0.000000   \n",
      "29                      Fox Interactive  0.398750  0.470000  0.000000   \n",
      "55                                Valve  0.315000  0.445000  0.010000   \n",
      "3           Sony Computer Entertainment  0.274846  0.388316  0.108492   \n",
      "112                           TalonSoft  0.330000  0.490000  0.000000   \n",
      "115                              Quelle  0.050000  0.810000  0.000000   \n",
      "116                           mixi, Inc  0.000000  0.000000  0.860000   \n",
      "7                       Electronic Arts  0.274811  0.440466  0.010392   \n",
      "121                            Mystique  0.050000  0.760000  0.000000   \n",
      "123                           Square EA  0.300000  0.450000  0.000000   \n",
      "..                                  ...       ...       ...       ...   \n",
      "495                            Quinrose  0.000000  0.000000  0.015714   \n",
      "535                              Dorart  0.000000  0.000000  0.015000   \n",
      "547                  Revolution (Japan)  0.000000  0.005000  0.010000   \n",
      "544                      Datam Polystar  0.000000  0.000000  0.015000   \n",
      "540                            Aerosoft  0.010000  0.005000  0.000000   \n",
      "531                             NetRevo  0.000000  0.000000  0.015000   \n",
      "529                               Views  0.000000  0.000000  0.015000   \n",
      "525                           Blue Byte  0.015000  0.000000  0.000000   \n",
      "519                  Interchannel-Holon  0.000000  0.000000  0.015000   \n",
      "546                               HuneX  0.000000  0.000000  0.015000   \n",
      "554                         System Soft  0.000000  0.000000  0.012500   \n",
      "571                           Nitroplus  0.000000  0.000000  0.010000   \n",
      "569               Ascaron Entertainment  0.010000  0.000000  0.000000   \n",
      "570                              Piacci  0.005000  0.000000  0.005000   \n",
      "575                            Commseed  0.000000  0.000000  0.010000   \n",
      "572                 Paradox Development  0.010000  0.000000  0.000000   \n",
      "573                             Otomate  0.000000  0.000000  0.010000   \n",
      "574                           Ongakukan  0.000000  0.000000  0.010000   \n",
      "567                          Epic Games  0.000000  0.010000  0.000000   \n",
      "568                          Naxat Soft  0.000000  0.000000  0.010000   \n",
      "563          Interworks Unlimited, Inc.  0.000000  0.010000  0.000000   \n",
      "566           EON Digital Entertainment  0.000000  0.010000  0.000000   \n",
      "565                     Stainless Games  0.010000  0.010000  0.000000   \n",
      "564                            Boost On  0.000000  0.000000  0.010000   \n",
      "562                         Genterprise  0.000000  0.000000  0.010000   \n",
      "561                 New World Computing  0.000000  0.010000  0.000000   \n",
      "560                 Media Entertainment  0.000000  0.000000  0.010000   \n",
      "559                         Michaelsoft  0.000000  0.000000  0.010000   \n",
      "576                        Inti Creates  0.000000  0.000000  0.010000   \n",
      "577                          Rain Games  0.010000  0.000000  0.000000   \n",
      "\n",
      "     othersales  globalsales  \n",
      "26     0.040000     4.170000  \n",
      "36     0.050000     2.620000  \n",
      "0      0.135605     2.541337  \n",
      "38     0.070000     2.360000  \n",
      "44     0.080000     2.250000  \n",
      "22     0.188000     1.778000  \n",
      "62     0.260000     1.600000  \n",
      "15     0.228000     1.592667  \n",
      "65     0.000000     1.550000  \n",
      "1      0.098201     1.300476  \n",
      "47     0.010000     1.205000  \n",
      "84     0.150000     1.200000  \n",
      "6      0.143099     1.156901  \n",
      "46     0.063333     1.130000  \n",
      "24     0.009000     1.124667  \n",
      "9      0.029615     1.108654  \n",
      "49     0.106667     1.076667  \n",
      "17     0.116667     0.970444  \n",
      "2      0.133454     0.965725  \n",
      "42     0.047857     0.951429  \n",
      "27     0.040000     0.951250  \n",
      "29     0.053750     0.923750  \n",
      "55     0.125000     0.900000  \n",
      "3      0.117789     0.889458  \n",
      "112    0.060000     0.870000  \n",
      "115    0.010000     0.870000  \n",
      "116    0.000000     0.860000  \n",
      "7      0.096055     0.821850  \n",
      "121    0.010000     0.820000  \n",
      "123    0.050000     0.800000  \n",
      "..          ...          ...  \n",
      "495    0.000000     0.015714  \n",
      "535    0.000000     0.015000  \n",
      "547    0.000000     0.015000  \n",
      "544    0.000000     0.015000  \n",
      "540    0.000000     0.015000  \n",
      "531    0.000000     0.015000  \n",
      "529    0.000000     0.015000  \n",
      "525    0.000000     0.015000  \n",
      "519    0.000000     0.015000  \n",
      "546    0.000000     0.015000  \n",
      "554    0.000000     0.012500  \n",
      "571    0.000000     0.010000  \n",
      "569    0.000000     0.010000  \n",
      "570    0.000000     0.010000  \n",
      "575    0.000000     0.010000  \n",
      "572    0.000000     0.010000  \n",
      "573    0.000000     0.010000  \n",
      "574    0.000000     0.010000  \n",
      "567    0.000000     0.010000  \n",
      "568    0.000000     0.010000  \n",
      "563    0.000000     0.010000  \n",
      "566    0.000000     0.010000  \n",
      "565    0.000000     0.010000  \n",
      "564    0.000000     0.010000  \n",
      "562    0.000000     0.010000  \n",
      "561    0.000000     0.010000  \n",
      "560    0.000000     0.010000  \n",
      "559    0.000000     0.010000  \n",
      "576    0.000000     0.010000  \n",
      "577    0.000000     0.010000  \n",
      "\n",
      "[578 rows x 6 columns]\n"
     ]
    }
   ],
   "source": [
    "publisherList = list(data.Publisher.unique()) #Get list of unique values of publisher\n",
    "eusales = []       # empty lists\n",
    "nasales = []\n",
    "jpsales = []\n",
    "othersales = []\n",
    "globalsales = []\n",
    "for i in publisherList:\n",
    "    x = data[data['Publisher']==i]      # find means of sales for each publisher\n",
    "    eusales.append(sum(x.EU_Sales)/len(x))\n",
    "    jpsales.append(sum(x.JP_Sales)/len(x))\n",
    "    nasales.append(sum(x.NA_Sales)/len(x))\n",
    "    othersales.append(sum(x.Other_Sales)/len(x))\n",
    "    globalsales.append(sum(x.Global_Sales)/len(x))\n",
    "dataframe2 = pd.DataFrame({'publisherList': publisherList,'eusales':eusales,'nasales':nasales,'jpsales':jpsales,'othersales':othersales,'globalsales':globalsales}) # create dictionary, turn it to dataframe\n",
    "new_index = (dataframe2['globalsales'].sort_values(ascending=False)).index.values# sort values ,ascending=False : sort by decreasing\n",
    "final2 = dataframe2.reindex(new_index) # put sorted index in new_index,new dataframe\n",
    "print(final2)"
   ]
  },
  {
   "cell_type": "markdown",
   "metadata": {},
   "source": [
    "### Visualizing the relation between Publisher and Global Sales "
   ]
  },
  {
   "cell_type": "code",
   "execution_count": null,
   "metadata": {},
   "outputs": [
    {
     "data": {
      "text/plain": [
       "Text(0, 0.5, 'Global Sales')"
      ]
     },
     "execution_count": 15,
     "metadata": {},
     "output_type": "execute_result"
    }
   ],
   "source": [
    "plt.figure(figsize=(100,30))\n",
    "sns.barplot(x=final2['publisherList'], y=final2['globalsales'])\n",
    "plt.xticks(rotation= 90)\n",
    "plt.xlabel('Publisher')\n",
    "plt.ylabel('Global Sales')"
   ]
  },
  {
   "cell_type": "markdown",
   "metadata": {},
   "source": [
    "### To find the relationship between Platform and Global Sales"
   ]
  },
  {
   "cell_type": "code",
   "execution_count": null,
   "metadata": {},
   "outputs": [],
   "source": [
    "platformList = list(data.Platform.unique()) #Get the list of unique values of platform\n",
    "eusales = []       # empty lists\n",
    "nasales = []\n",
    "jpsales = []\n",
    "othersales = []\n",
    "globalsales = []\n",
    "for i in platformList:\n",
    "    x = data[data['Platform']==i]      # find means of sales for each platform\n",
    "    eusales.append(sum(x.EU_Sales)/len(x))\n",
    "    jpsales.append(sum(x.JP_Sales)/len(x))\n",
    "    nasales.append(sum(x.NA_Sales)/len(x))\n",
    "    othersales.append(sum(x.Other_Sales)/len(x))\n",
    "    globalsales.append(sum(x.Global_Sales)/len(x))\n",
    "dataframe3 = pd.DataFrame({'platformList': platformList,'eusales':eusales,'nasales':nasales,'jpsales':jpsales,'othersales':othersales,'globalsales':globalsales}) # create dictionary, turn it to dataframe\n",
    "new_index = (dataframe3['globalsales'].sort_values(ascending=False)).index.values# sort values ,ascending=False : sort by decreasing\n",
    "final3 = dataframe3.reindex(new_index) # put sorted index in new_index,new dataframe\n",
    "print(final3)"
   ]
  },
  {
   "cell_type": "markdown",
   "metadata": {},
   "source": [
    "### Visualizing the relation between Platform and Global Sales "
   ]
  },
  {
   "cell_type": "code",
   "execution_count": null,
   "metadata": {},
   "outputs": [],
   "source": [
    "plt.figure(figsize=(15,10)) #create a (15,10) frame for plot \n",
    "sns.pointplot(x=\"platformList\",y=\"eusales\",color='magenta',alpha=0.6,data=final3) #alpha=opacity, data= dataframe that i use (final1)\n",
    "sns.pointplot(x=\"platformList\",y=\"nasales\",color='navy',alpha=0.6,data=final3)\n",
    "sns.pointplot(x='platformList',y='jpsales',color='red',alpa=0.6,data=final3)\n",
    "sns.pointplot(x='platformList',y='othersales',color='orange',data=final3)\n",
    "sns.pointplot(x='platformList',y='globalsales',color='green',data=final3)\n",
    "plt.grid()\n",
    "plt.xlabel(\"Platform\")\n",
    "plt.ylabel(\"Values\")\n",
    "plt.title(\"Sales\")"
   ]
  },
  {
   "cell_type": "markdown",
   "metadata": {},
   "source": [
    "### To find the relationship between Year and Global Sales"
   ]
  },
  {
   "cell_type": "code",
   "execution_count": null,
   "metadata": {},
   "outputs": [],
   "source": [
    "data.Year = data.Year.astype(int) #Convert year to int from float\n",
    "year = list(data.Year.unique()) #Get the list of unique values of year\n",
    "eusales = []       # empty lists\n",
    "nasales = []\n",
    "jpsales = []\n",
    "othersales = []\n",
    "globalsales = []\n",
    "for i in year:\n",
    "    x = data[data['Year']==i]      # find means of sales for each year\n",
    "    eusales.append(sum(x.EU_Sales)/len(x))\n",
    "    jpsales.append(sum(x.JP_Sales)/len(x))\n",
    "    nasales.append(sum(x.NA_Sales)/len(x))\n",
    "    othersales.append(sum(x.Other_Sales)/len(x))\n",
    "    globalsales.append(sum(x.Global_Sales)/len(x))\n",
    "dataframe4 = pd.DataFrame({'year': year,'eusales':eusales,'nasales':nasales,'jpsales':jpsales,'othersales':othersales,'globalsales':globalsales}) # create dictionary, turn it to dataframe\n",
    "new_index = (dataframe4['globalsales'].sort_values(ascending=False)).index.values# sort values ,ascending=False : sort by decreasing\n",
    "final4 = dataframe4.reindex(new_index) # put sorted index in new_index,new dataframe\n",
    "print(final4)"
   ]
  },
  {
   "cell_type": "markdown",
   "metadata": {},
   "source": [
    "### Visualizing the relation between Year and Global Sales "
   ]
  },
  {
   "cell_type": "code",
   "execution_count": null,
   "metadata": {},
   "outputs": [],
   "source": [
    "plt.figure(figsize=(50,30))\n",
    "sns.barplot(x=final4['year'], y=final4['globalsales'])\n",
    "plt.xlabel('Year')\n",
    "plt.ylabel('Global Sales')"
   ]
  },
  {
   "cell_type": "markdown",
   "metadata": {},
   "source": [
    "##### By visuallizing, the features year,genre,platform and publisher largely influences the Global Sales ,hence these features are considered"
   ]
  },
  {
   "cell_type": "markdown",
   "metadata": {},
   "source": [
    "## Data Pre-processing \n",
    "Converting the string columns into integer values using get_dummies"
   ]
  },
  {
   "cell_type": "code",
   "execution_count": null,
   "metadata": {},
   "outputs": [],
   "source": [
    "x=pd.get_dummies(data['Genre']) #convert string values to int for genre -> generates 12 col\n",
    "x.head()"
   ]
  },
  {
   "cell_type": "code",
   "execution_count": null,
   "metadata": {},
   "outputs": [],
   "source": [
    "y=pd.get_dummies(data['Publisher']) #convert string values to int for publisher -> generates 578 col\n",
    "y.head()"
   ]
  },
  {
   "cell_type": "code",
   "execution_count": null,
   "metadata": {},
   "outputs": [],
   "source": [
    "z=pd.get_dummies(data['Platform']) #convert string values to int for platform -> generates 31 col\n",
    "z.head()"
   ]
  },
  {
   "cell_type": "markdown",
   "metadata": {},
   "source": [
    "##### Convert the additional columns into a single column using PCA.\n",
    "\n",
    "PCA helps in converting a large dataset into a smaller one, that still contains the same amount of information of the large dataset.This technique helps us reduce the larger dimensions of the data into a small one. "
   ]
  },
  {
   "cell_type": "code",
   "execution_count": null,
   "metadata": {},
   "outputs": [],
   "source": [
    "from sklearn.decomposition import PCA\n",
    "\n",
    "pca = PCA(n_components=1)  #reduce to 1 column\n",
    "\n",
    "features1 = pca.fit_transform(x) #Fit the model with x(Genre) and apply the dimensionality reduction on x.\n",
    "features1=pd.DataFrame(features1,columns=['genre']) #Create a genre column\n",
    "\n",
    "features2 = pca.fit_transform(y) #Fit the model with y(publisher) and apply the dimensionality reduction on y.\n",
    "features2=pd.DataFrame(features2,columns=['publisher']) #Create a publisher column\n",
    "\n",
    "features3 = pca.fit_transform(z) #Fit the model with z(platform) and apply the dimensionality reduction on z.\n",
    "features3=pd.DataFrame(features3,columns=['platform']) #Create a platform column"
   ]
  },
  {
   "cell_type": "code",
   "execution_count": null,
   "metadata": {},
   "outputs": [],
   "source": [
    "df=data.drop(['Genre','Publisher','Platform'],axis=1)  #Drop the existing Genre ,publisher,platform columns \n",
    "dataset=pd.concat([df,features1,features2,features3],axis=1) #Concate the 3 new columns with the data\n",
    "dataset.head()"
   ]
  },
  {
   "cell_type": "markdown",
   "metadata": {},
   "source": [
    "### Converting the required features and the target into numpy array"
   ]
  },
  {
   "cell_type": "code",
   "execution_count": null,
   "metadata": {},
   "outputs": [],
   "source": [
    "x = np.array(dataset[['genre','publisher','platform','Year']])\n",
    "y = np.array(dataset['Global_Sales'])"
   ]
  },
  {
   "cell_type": "markdown",
   "metadata": {},
   "source": [
    "### Normalizing the array"
   ]
  },
  {
   "cell_type": "code",
   "execution_count": null,
   "metadata": {},
   "outputs": [],
   "source": [
    "x=((x-x.min())/(x.max()-x.min()))\n",
    "y=((y-y.min())/(y.max()-y.min()))"
   ]
  },
  {
   "cell_type": "markdown",
   "metadata": {},
   "source": [
    "### Split the data into train and test values"
   ]
  },
  {
   "cell_type": "code",
   "execution_count": null,
   "metadata": {},
   "outputs": [],
   "source": [
    "xtrain,xtest,ytrain,ytest=train_test_split(x,y,test_size=0.3)"
   ]
  },
  {
   "cell_type": "markdown",
   "metadata": {},
   "source": [
    "Using Sequential model for creating the neural network\n",
    "\n",
    "Denseis used to define the number of nodes in a layer and the activation function for each of the layer"
   ]
  },
  {
   "cell_type": "code",
   "execution_count": null,
   "metadata": {},
   "outputs": [],
   "source": [
    "model= Sequential([\n",
    "    Dense(32, activation='relu', input_shape=(xtrain[1].shape)), #hidden layer has 32 nodes whose activation function is relu\n",
    "    Dense(1, kernel_initializer='normal') #output layer has only 1 node and there is no activation function for this as it is a regression problem\n",
    "])"
   ]
  },
  {
   "cell_type": "code",
   "execution_count": null,
   "metadata": {},
   "outputs": [],
   "source": [
    "model.summary()"
   ]
  },
  {
   "cell_type": "markdown",
   "metadata": {},
   "source": [
    "### Adam optimizer is used and the loss used is mean squared error"
   ]
  },
  {
   "cell_type": "code",
   "execution_count": null,
   "metadata": {},
   "outputs": [],
   "source": [
    "model.compile(loss='mean_squared_error', optimizer='sgd')"
   ]
  },
  {
   "cell_type": "markdown",
   "metadata": {},
   "source": [
    "### Fit the model"
   ]
  },
  {
   "cell_type": "code",
   "execution_count": null,
   "metadata": {
    "scrolled": true
   },
   "outputs": [],
   "source": [
    "history = model.fit(xtrain,ytrain,epochs=20,batch_size=64,validation_split=0.2,verbose=1)"
   ]
  },
  {
   "cell_type": "markdown",
   "metadata": {},
   "source": [
    "### Take square root to get Root Mean Squared Error"
   ]
  },
  {
   "cell_type": "code",
   "execution_count": null,
   "metadata": {
    "scrolled": false
   },
   "outputs": [],
   "source": [
    "np.sqrt(history.history['loss'])"
   ]
  },
  {
   "cell_type": "code",
   "execution_count": null,
   "metadata": {},
   "outputs": [],
   "source": [
    "np.sqrt(history.history['val_loss'])"
   ]
  },
  {
   "cell_type": "markdown",
   "metadata": {},
   "source": [
    "### Evaluate for test data"
   ]
  },
  {
   "cell_type": "code",
   "execution_count": null,
   "metadata": {},
   "outputs": [],
   "source": [
    "np.sqrt(model.evaluate(xtest,ytest))"
   ]
  },
  {
   "cell_type": "markdown",
   "metadata": {},
   "source": [
    "### RMSE value for train data is 0.0197\n",
    "### RMSE value for test data is 0.0171"
   ]
  },
  {
   "cell_type": "code",
   "execution_count": null,
   "metadata": {},
   "outputs": [],
   "source": [
    "plt.plot(history.epoch, history.history['loss'])"
   ]
  },
  {
   "cell_type": "code",
   "execution_count": null,
   "metadata": {},
   "outputs": [],
   "source": [
    "plt.plot(history.epoch, history.history['val_loss'])"
   ]
  },
  {
   "cell_type": "code",
   "execution_count": null,
   "metadata": {},
   "outputs": [],
   "source": []
  }
 ],
 "metadata": {
  "kernelspec": {
   "display_name": "Python 3",
   "language": "python",
   "name": "python3"
  },
  "language_info": {
   "codemirror_mode": {
    "name": "ipython",
    "version": 3
   },
   "file_extension": ".py",
   "mimetype": "text/x-python",
   "name": "python",
   "nbconvert_exporter": "python",
   "pygments_lexer": "ipython3",
   "version": "3.6.8"
  }
 },
 "nbformat": 4,
 "nbformat_minor": 2
}
